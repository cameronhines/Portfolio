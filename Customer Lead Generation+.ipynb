{
 "cells": [
  {
   "cell_type": "code",
   "execution_count": null,
   "id": "c22676f5",
   "metadata": {},
   "outputs": [],
   "source": [
    "#this program systematically identifies the POS data from the latest month that is worth the attention of sales managers and reps\n",
    "#paramters to define actionable POS data designed after discussions with business development team\n",
    "#looking for non-contract customers that bought an item through distribution that they also previously downloaded data from our site for\n",
    "#or - looking for contract customers that bought an item they have never bought before\n",
    "#end result - clean, easy to interpret data for each of our rep groups\n",
    "\n",
    "#ideally this could be a SQL stored procedure - but the reality of the situation makes this Python script more feasible\n",
    "#this has helped us make better use of POS and web activity data that was mostly just sitting untouched"
   ]
  },
  {
   "cell_type": "code",
   "execution_count": null,
   "id": "f52de146",
   "metadata": {},
   "outputs": [],
   "source": [
    "import pandas as pd"
   ]
  },
  {
   "cell_type": "code",
   "execution_count": null,
   "id": "94843ac5",
   "metadata": {},
   "outputs": [],
   "source": [
    "#have these files ready beforehand and import them here\n",
    "pos=pd.read_csv('August2022POS.csv',encoding='latin') #last month's POS data as generated from POS Standardization file\n",
    "cad=pd.read_csv('WebAct.csv',encoding='latin') #historical activity on our website\n",
    "xref=pd.read_csv('POSCustomerXRef.csv').drop_duplicates(subset=['CustomerID2']) #list of all customers\n",
    "id4=pd.read_csv('4thShiftID.csv',encoding='latin').drop_duplicates(subset=['POSID']) #list of contract customers"
   ]
  },
  {
   "cell_type": "code",
   "execution_count": null,
   "id": "aa01996b",
   "metadata": {},
   "outputs": [],
   "source": [
    "#create columns for first 8 characters of customer names in two tables - these are going to be matched up\n",
    "#only want past year of web activity\n",
    "#group web activity by customer, item combos - show customer email and latest activity date\n",
    "pos['CStartPOS']=pos['Customer'].str[:8]\n",
    "cad['DATE']=pd.to_datetime(cad['DATE'])\n",
    "cad=cad[cad['DATE']>'7/31/2021'] #change\n",
    "cad['CStartCAD']=cad['COMPANY NAME'].str[:8]\n",
    "cad=cad.groupby(['CStartCAD','SV ITEM']).agg({'EMAIL': 'unique', 'DATE':'max'}).reset_index()"
   ]
  },
  {
   "cell_type": "code",
   "execution_count": null,
   "id": "7021bfff",
   "metadata": {},
   "outputs": [],
   "source": [
    "#find matches\n",
    "leads1=pd.merge(pos,cad,left_on=['CStartPOS','Item Number'],right_on=['CStartCAD','SV ITEM'],how='left')\n",
    "leads1=leads1[leads1['CStartCAD'].notnull()]"
   ]
  },
  {
   "cell_type": "code",
   "execution_count": null,
   "id": "b1ea5dcb",
   "metadata": {},
   "outputs": [],
   "source": [
    "#match contract customers\n",
    "id4=pd.merge(id4,xref,left_on='POSID',right_on='CustomerID2',how='inner')\n",
    "id4['Customer']=id4['CustomerName_y']"
   ]
  },
  {
   "cell_type": "code",
   "execution_count": null,
   "id": "74234f8e",
   "metadata": {},
   "outputs": [],
   "source": [
    "#show data from non-contract customers only\n",
    "merged=leads1.merge(id4, how='left', left_on='Customer', right_on='Customer', indicator=True)\n",
    "leads1=merged[merged['_merge']=='left_only']"
   ]
  },
  {
   "cell_type": "code",
   "execution_count": null,
   "id": "c88e4fd4",
   "metadata": {},
   "outputs": [],
   "source": [
    "#show data from contract customers only\n",
    "leads2=pd.merge(pos,id4,on='Customer',how='inner')"
   ]
  },
  {
   "cell_type": "code",
   "execution_count": null,
   "id": "9a6d38b5",
   "metadata": {},
   "outputs": [],
   "source": [
    "#only want first-time item buys from contract customers\n",
    "lpos=pd.read_csv('POS.csv',encoding='latin')\n",
    "lpos=lpos[lpos['Date']<'9/1/2022'] #change\n",
    "lpos=lpos[['Customer Name (Standardized)','Item Number']]\n",
    "merged=leads2.merge(lpos, how='left', left_on=['Customer','Item Number'], right_on=['Customer Name (Standardized)','Item Number'], indicator=True)\n",
    "leads2=merged[merged['_merge']=='left_only']"
   ]
  },
  {
   "cell_type": "code",
   "execution_count": null,
   "id": "356bfc99",
   "metadata": {},
   "outputs": [],
   "source": [
    "#create new columns and organize tables\n",
    "leads1['Direct Match']='Yes'\n",
    "leads1['Existing Customer New Item']=''\n",
    "leads1=leads1[['Rep Code','Direct Match','Existing Customer New Item','Date','Distributor','Customer','City','State','ZIP','Country','Item Number','Quantity','Resale Price','Total Resale','EMAIL','DATE']]\n",
    "leads2['Direct Match']=''\n",
    "leads2['Existing Customer New Item']='Yes'\n",
    "leads2=leads2[['Rep Code','Direct Match','Existing Customer New Item','Date','Distributor','Customer','City','State','ZIP','Country','Item Number','Quantity','Resale Price','Total Resale','EMAIL','DATE','CStartPOS']]"
   ]
  },
  {
   "cell_type": "code",
   "execution_count": null,
   "id": "c9641434",
   "metadata": {},
   "outputs": [],
   "source": [
    "leads2=pd.merge(leads2, cad, left_on=['CStartPOS','Item Number'],right_on=['CStartCAD','SV ITEM'],how='left')\n",
    "leads2.loc[leads2['CStartCAD'].notnull(), 'Direct Match'] = 'Yes'"
   ]
  },
  {
   "cell_type": "code",
   "execution_count": null,
   "id": "e46608cc",
   "metadata": {},
   "outputs": [],
   "source": [
    "leads2=leads2[['Rep','Direct Match','Existing Customer New Item','Date','Distributor','Customer','City','State','ZIP','Country','Item Number','Quantity','Resale Price','Total Resale','EMAIL','DATE']]"
   ]
  },
  {
   "cell_type": "code",
   "execution_count": null,
   "id": "bc0076d7",
   "metadata": {},
   "outputs": [],
   "source": [
    "#tag rep name based on rep code\n",
    "leads1.loc[leads1['Rep Code']==548, 'Rep'] = 'ATM'\n",
    "leads1.loc[leads1['Rep Code']==564, 'Rep'] = 'Blackhart'\n",
    "leads1.loc[leads1['Rep Code']==555, 'Rep'] = 'Cover 2'\n",
    "leads1.loc[leads1['Rep Code']==551, 'Rep'] = 'SCS'\n",
    "leads1.loc[leads1['Rep Code']==565, 'Rep'] = 'PhaseCom'\n",
    "leads1.loc[leads1['Rep Code']==566, 'Rep'] = 'Vitale ESM'\n",
    "leads1.loc[leads1['Rep Code']==567, 'Rep'] = 'Coastal RF'\n",
    "leads1.loc[leads1['Rep Code']==331, 'Rep'] = 'NWN'\n",
    "leads1.loc[leads1['Rep Code']==374, 'Rep'] = 'Wes-K'\n",
    "leads1.loc[leads1['Rep Code']==401, 'Rep'] = 'House'\n",
    "leads1.loc[leads1['Rep Code']==601, 'Rep'] = 'International'\n",
    "leads1.loc[leads1['Rep Code']==701, 'Rep'] = 'Europe'\n",
    "leads1.loc[leads1['Rep Code']==559, 'Rep'] = 'Israel'\n",
    "leads1.loc[leads1['Rep Code']==630, 'Rep'] = 'India'\n",
    "leads1.loc[leads1['Rep Code']==650, 'Rep'] = 'Turkey'\n",
    "\n",
    "leads2.loc[leads2['Rep Code']==548, 'Rep'] = 'ATM'\n",
    "leads2.loc[leads2['Rep Code']==564, 'Rep'] = 'Blackhart'\n",
    "leads2.loc[leads2['Rep Code']==555, 'Rep'] = 'Cover 2'\n",
    "leads2.loc[leads2['Rep Code']==551, 'Rep'] = 'SCS'\n",
    "leads2.loc[leads2['Rep Code']==565, 'Rep'] = 'PhaseCom'\n",
    "leads2.loc[leads2['Rep Code']==566, 'Rep'] = 'Vitale ESM'\n",
    "leads2.loc[leads2['Rep Code']==567, 'Rep'] = 'Coastal RF'\n",
    "leads2.loc[leads2['Rep Code']==331, 'Rep'] = 'NWN'\n",
    "leads2.loc[leads2['Rep Code']==374, 'Rep'] = 'Wes-K'\n",
    "leads2.loc[leads2['Rep Code']==401, 'Rep'] = 'House'\n",
    "leads2.loc[leads2['Rep Code']==601, 'Rep'] = 'International'\n",
    "leads2.loc[leads2['Rep Code']==701, 'Rep'] = 'Europe'\n",
    "leads2.loc[leads2['Rep Code']==559, 'Rep'] = 'Israel'\n",
    "leads2.loc[leads2['Rep Code']==630, 'Rep'] = 'India'\n",
    "leads2.loc[leads2['Rep Code']==650, 'Rep'] = 'Turkey'"
   ]
  },
  {
   "cell_type": "code",
   "execution_count": null,
   "id": "973d401d",
   "metadata": {},
   "outputs": [],
   "source": [
    "#combine tables of two lead types; add in item descriptions\n",
    "master=pd.concat([leads1,leads2],axis=0)\n",
    "parts=pd.read_csv('ProductMediaUrls-9_12_2022.csv')\n",
    "parts=parts[['ProductName','ProductSku']]"
   ]
  },
  {
   "cell_type": "code",
   "execution_count": null,
   "id": "4d283999",
   "metadata": {},
   "outputs": [],
   "source": [
    "#manipulate table to be more viewer-friendly\n",
    "master=pd.merge(master,parts,left_on='Item Number',right_on='ProductSku',how='left')\n",
    "master=master.drop(['ProductSku'], axis = 1)\n",
    "master.rename(columns={'ProductName':'Description'},inplace=True)\n",
    "master.rename(columns={'Date':'Purchase Date'},inplace=True)\n",
    "master.rename(columns={'EMAIL':'Contacts'},inplace=True)\n",
    "master.rename(columns={'DATE':'Web Activity Date'},inplace=True)\n",
    "master=master[['Rep','Direct Match','Existing Customer New Item','Purchase Date','Distributor','Customer','City','State','ZIP','Country','Item Number','Description','Quantity','Resale Price','Total Resale','Contacts','Web Activity Date']]\n",
    "master.sort_values(by=['Customer','Item Number'], inplace=True)\n",
    "master['Purchase Date']=pd.to_datetime(master['Purchase Date']).dt.date\n",
    "master['Web Activity Date']=pd.to_datetime(master['Web Activity Date']).dt.date"
   ]
  },
  {
   "cell_type": "code",
   "execution_count": null,
   "id": "550fcc6e",
   "metadata": {},
   "outputs": [],
   "source": [
    "#create separate leads tables for each rep\n",
    "atm=master[master['Rep']=='ATM']\n",
    "blackhart=master[master['Rep']=='Blackhart']\n",
    "cover2=master[master['Rep']=='Cover 2']\n",
    "scs=master[master['Rep']=='SCS']\n",
    "phasecom=master[master['Rep']=='PhaseCom']\n",
    "vitale=master[master['Rep']=='Vitale ESM']\n",
    "coastalrf=master[master['Rep']=='Coastal RF']\n",
    "nwn=master[master['Rep']=='NWN']"
   ]
  },
  {
   "cell_type": "code",
   "execution_count": null,
   "id": "e97c9af8",
   "metadata": {},
   "outputs": [],
   "source": [
    "#export each table for delivery to reps\n",
    "atm.to_excel('C:/Users/chines/Downloads/ATM Leads.xlsx', index = False, header=True)\n",
    "blackhart.to_excel('C:/Users/chines/Downloads/Blackhart Leads.xlsx', index = False, header=True)\n",
    "cover2.to_excel('C:/Users/chines/Downloads/Cover 2 Leads.xlsx', index = False, header=True)\n",
    "scs.to_excel('C:/Users/chines/Downloads/SCS Leads.xlsx', index = False, header=True)\n",
    "phasecom.to_excel('C:/Users/chines/Downloads/PhaseCom Leads.xlsx', index = False, header=True)\n",
    "vitale.to_excel('C:/Users/chines/Downloads/Vitale ESM Leads.xlsx', index = False, header=True)\n",
    "coastalrf.to_excel('C:/Users/chines/Downloads/Coastal RF Leads.xlsx', index = False, header=True)\n",
    "nwn.to_excel('C:/Users/chines/Downloads/NWN Leads.xlsx', index = False, header=True)"
   ]
  },
  {
   "cell_type": "code",
   "execution_count": null,
   "id": "b881daeb",
   "metadata": {},
   "outputs": [],
   "source": [
    "#full table if desired\n",
    "master.to_excel('C:/Users/chines/Downloads/8-22 Customer Leads to Reps.xlsx', index = False, header=True)"
   ]
  }
 ],
 "metadata": {
  "kernelspec": {
   "display_name": "Python 3 (ipykernel)",
   "language": "python",
   "name": "python3"
  },
  "language_info": {
   "codemirror_mode": {
    "name": "ipython",
    "version": 3
   },
   "file_extension": ".py",
   "mimetype": "text/x-python",
   "name": "python",
   "nbconvert_exporter": "python",
   "pygments_lexer": "ipython3",
   "version": "3.8.8"
  }
 },
 "nbformat": 4,
 "nbformat_minor": 5
}
