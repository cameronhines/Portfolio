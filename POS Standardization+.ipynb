{
 "cells": [
  {
   "cell_type": "code",
   "execution_count": null,
   "id": "e800a501",
   "metadata": {},
   "outputs": [],
   "source": [
    "#this program pulls in each individual POS file that gets sent to us each month from our distributors\n",
    "#frustratingly, they are in all different formats - this program extracts the data we need from each one and concatenates into one standard, uniform table\n",
    "#various data cleaning is performed, including flagging new customer names - allows for name standardization/consolidation that in turn improves later analysis\n",
    "#commissions to sales reps are assigned based on a list of rules\n",
    "#file is uploaded to SQL database for company visibility and reporting to parent company Amphenol\n",
    "\n",
    "#ideally this could be a SQL stored procedure - but the reality of the situation makes this Python script more feasible\n",
    "#there remain some manual aspects to this - but overall, this project has been a big win for the company and created value in numerous areas\n",
    "#several members of the team have had numerous hours reduced from their monthly workload, freeing them up for other tasks\n",
    "#cleaner and more accurate data than before\n",
    "#speedier and more efficient reporting"
   ]
  },
  {
   "cell_type": "code",
   "execution_count": null,
   "id": "8850489b",
   "metadata": {},
   "outputs": [],
   "source": [
    "#import needed packages\n",
    "import pandas as pd\n",
    "import urllib.request\n",
    "from pprint import pprint\n",
    "from html_table_parser.parser import HTMLTableParser"
   ]
  },
  {
   "cell_type": "code",
   "execution_count": null,
   "id": "9adbba65",
   "metadata": {},
   "outputs": [],
   "source": [
    "def url_get_contents(url):\n",
    "    #Opens a website and read its\n",
    "    #binary contents (HTTP Response Body)\n",
    "\n",
    "    #making request to the website\n",
    "    req = urllib.request.Request(url=url)\n",
    "    f = urllib.request.urlopen(req)\n",
    "\n",
    "    #reading contents of the website\n",
    "    return f.read()"
   ]
  },
  {
   "cell_type": "code",
   "execution_count": null,
   "id": "76ee0fdb",
   "metadata": {},
   "outputs": [],
   "source": [
    "#defining the html contents of a URL; this gives an up-to-date currency conversion table needed for some of the international files\n",
    "\n",
    "xhtml = url_get_contents('https://www.xe.com/currencytables/?from=USD&date=2022-09-30#table-section').decode('utf-8') \n",
    "###########################################################################################################################\n",
    "#change date in above url to last day of POS month for most current conversion table\n",
    "###########################################################################################################################\n",
    "\n",
    "#Defining the HTMLTableParser object\n",
    "p = HTMLTableParser()\n",
    "\n",
    "#feeding the html contents in the\n",
    "#HTMLTableParser object\n",
    "p.feed(xhtml)\n",
    "\n",
    "#Now finally obtaining the data of\n",
    "#the table required\n",
    "conversion=list((p.tables[0]))\n",
    "conversion1=pd.DataFrame(conversion)\n",
    "conversion1.columns =['Currency', 'Name', 'USD to Currency', 'Currency to USD']\n",
    "conversion1 = conversion1.iloc[1: , :]\n",
    "conversion1['Currency to USD']=conversion1['Currency to USD'].str.replace(',','')\n",
    "conversion1['Currency to USD']=pd.to_numeric(conversion1['Currency to USD'])\n",
    "conversion1.loc[conversion1['Currency'] == 'CNY', 'Currency'] = 'RMB'\n",
    "conversion1.head(11)"
   ]
  },
  {
   "cell_type": "code",
   "execution_count": null,
   "id": "27c83e15",
   "metadata": {},
   "outputs": [],
   "source": [
    "#pull in individual distributor POS files; comment out any that had no sales for a given month\n",
    "aepetsche=pd.read_csv('AEPetsche.csv',header=3).dropna(subset=['Quantity            '])\n",
    "applied=pd.read_csv('Applied.csv',header=3).iloc[:-2,:]\n",
    "arrow=pd.read_csv('Arrow.csv')\n",
    "avnet=pd.read_csv('Avnet.csv',header=1).iloc[:-1,:]\n",
    "bjg=pd.read_csv('BJG.csv')\n",
    "digikey=pd.read_csv('Digikey.csv').iloc[:-1,:] \n",
    "electro=pd.read_csv('Electro.csv')\n",
    "farnell=pd.read_csv('Farnell.csv',encoding='latin')\n",
    "heilind=pd.read_csv('Heilind.csv',header=None) #manually combine all relevant files in Excel- delete first row and last row of all\n",
    "heilindapac=pd.read_csv('HeilindAPAC.csv',header=None) #manually combine all relevant files in Excel- delete first row and last row of all\n",
    "heilindeurope=pd.read_csv('HeilindEurope.csv',header=None) #manually combine all relevant files in Excel- delete first row and last row of all\n",
    "master=pd.read_csv('Master.csv').iloc[:-1,:]\n",
    "mci=pd.read_csv('MCI.csv')\n",
    "mouser=pd.read_csv('Mouser.csv',header=1).iloc[:-1,:]\n",
    "newark=pd.read_csv('Newark.csv').drop(0)\n",
    "pei=pd.read_csv('PEI.csv').iloc[:-1,:]\n",
    "peieurope=pd.read_csv('PEIEurope.csv').iloc[:-1,:]\n",
    "richardson=pd.read_csv('Richardson.csv',header=2).iloc[:-4,:] #fixed width when converting to columns in Excel; manually edit column widths/breaks; be careful and check head/tail\n",
    "#spirit=pd.read_csv('Spirit.csv')\n",
    "swift=pd.read_csv('Swift.csv',header=2)\n",
    "ttieurope=pd.read_csv('TTIEurope.csv').iloc[:-1,:]\n",
    "tti=pd.read_csv('TTI.csv').iloc[:-1,:]"
   ]
  },
  {
   "cell_type": "code",
   "execution_count": null,
   "id": "cd9a4add",
   "metadata": {},
   "outputs": [],
   "source": [
    "#the next several blocks of code pull in the desired data from each distributor file\n",
    "#also show the first and last 5 rows of each file as a way to eyeball anomalies"
   ]
  },
  {
   "cell_type": "code",
   "execution_count": null,
   "id": "c0914575",
   "metadata": {},
   "outputs": [],
   "source": [
    "aepetsche['Date']=pd.to_datetime(aepetsche['Date Shipped'])\n",
    "aepetsche['DistributorID']=12139\n",
    "aepetsche['Distributor']='A.E. PETSCHE'\n",
    "aepetsche['CustomerID']=aepetsche.iloc[:,0]\n",
    "aepetsche['Customer']=aepetsche.iloc[:,1]\n",
    "aepetsche['Purchased']=''\n",
    "aepetsche['Address']=aepetsche['Address']\n",
    "aepetsche['City']=aepetsche['City']\n",
    "aepetsche['State']=aepetsche['State']\n",
    "aepetsche['ZIP']=aepetsche['Zip Code']\n",
    "aepetsche['Country']=aepetsche['Country']\n",
    "aepetsche['Item Number']=aepetsche['MIL PN']\n",
    "aepetsche['Quantity']=aepetsche.iloc[:,9]\n",
    "aepetsche['Acquisition Price']=aepetsche.iloc[:,12]\n",
    "aepetsche['Resale Price']=aepetsche.iloc[:,10]\n",
    "aepetsche=aepetsche[['Date','DistributorID','Distributor','CustomerID','Customer','Purchased','Address','City','State','ZIP','Country','Item Number','Quantity','Acquisition Price','Resale Price']]"
   ]
  },
  {
   "cell_type": "code",
   "execution_count": null,
   "id": "09e2bf8c",
   "metadata": {
    "scrolled": true
   },
   "outputs": [],
   "source": [
    "aepetsche.head()"
   ]
  },
  {
   "cell_type": "code",
   "execution_count": null,
   "id": "199c9d72",
   "metadata": {},
   "outputs": [],
   "source": [
    "aepetsche.tail()"
   ]
  },
  {
   "cell_type": "code",
   "execution_count": null,
   "id": "86f9ab23",
   "metadata": {},
   "outputs": [],
   "source": [
    "applied['Date']=pd.to_datetime('09/01/22') #change to first day of POS month\n",
    "applied['DistributorID']=10013\n",
    "applied['Distributor']='APPLIED'\n",
    "applied['CustomerID']=''\n",
    "applied['Customer']=applied['CUSTOMER']\n",
    "applied['Purchased']=''\n",
    "applied['Address']=''\n",
    "applied['City']=applied['CITY']\n",
    "applied['State']=applied['STATE']\n",
    "applied['ZIP']=applied['ZIP CODE']\n",
    "applied['Country']='US' #check\n",
    "applied['Item Number']=applied['P/N']\n",
    "applied['Quantity']=applied['QTY']\n",
    "applied['Acquisition Price']=applied.iloc[:,9]/applied['QTY']\n",
    "applied['Resale Price']=applied.iloc[:,7]\n",
    "applied=applied[['Date','DistributorID','Distributor','CustomerID','Customer','Purchased','Address','City','State','ZIP','Country','Item Number','Quantity','Acquisition Price','Resale Price']]"
   ]
  },
  {
   "cell_type": "code",
   "execution_count": null,
   "id": "63bdf8fb",
   "metadata": {},
   "outputs": [],
   "source": [
    "applied.head()"
   ]
  },
  {
   "cell_type": "code",
   "execution_count": null,
   "id": "603f489c",
   "metadata": {},
   "outputs": [],
   "source": [
    "applied.tail()"
   ]
  },
  {
   "cell_type": "code",
   "execution_count": null,
   "id": "721c92d9",
   "metadata": {},
   "outputs": [],
   "source": [
    "arrow['INV-DATE']=arrow['INV-DATE'].astype(str)\n",
    "arrow['Date']=arrow['INV-DATE'].str[4:6]+'/'+arrow['INV-DATE'].str[6:8]+'/'+arrow['INV-DATE'].str[0:4]\n",
    "arrow['Date']=pd.to_datetime(arrow['Date'])\n",
    "arrow['DistributorID']=11459\n",
    "arrow['Distributor']='ARROW'\n",
    "arrow['CustomerID']=arrow['CUST-ID']\n",
    "arrow['Customer']=arrow['SHIP-TO-NAME']\n",
    "arrow['Purchased']=''\n",
    "arrow['Address']=arrow['SHIP_TO_ADDR']\n",
    "arrow['City']=arrow['SHIP_TO_CITY']\n",
    "arrow['State']=arrow['SHIP-TO-ST']\n",
    "arrow['ZIP']=arrow['SHIP-TO-ZIP']\n",
    "arrow['Country']=arrow['SHIP_TO_CNTRY']\n",
    "arrow['Item Number']=arrow['PART-NBR']\n",
    "arrow['Quantity']=arrow['QTY']\n",
    "arrow['Acquisition Price']=arrow['UNIT-COST']\n",
    "arrow['Resale Price']=arrow['RESALE-PRICE']\n",
    "arrow=arrow[['Date','DistributorID','Distributor','CustomerID','Customer','Purchased','Address','City','State','ZIP','Country','Item Number','Quantity','Acquisition Price','Resale Price']]"
   ]
  },
  {
   "cell_type": "code",
   "execution_count": null,
   "id": "ace4bb2f",
   "metadata": {},
   "outputs": [],
   "source": [
    "arrow.head()"
   ]
  },
  {
   "cell_type": "code",
   "execution_count": null,
   "id": "7b8c2f20",
   "metadata": {},
   "outputs": [],
   "source": [
    "arrow.tail()"
   ]
  },
  {
   "cell_type": "code",
   "execution_count": null,
   "id": "ea8e722d",
   "metadata": {},
   "outputs": [],
   "source": [
    "avnet['InvoiceDate']=avnet['InvoiceDate'].astype(str)\n",
    "avnet['Date']=avnet['InvoiceDate'].str[4:6]+'/'+avnet['InvoiceDate'].str[6:8]+'/'+avnet['InvoiceDate'].str[0:4]\n",
    "avnet['Date']=pd.to_datetime(avnet['Date'])\n",
    "avnet['DistributorID']=12292\n",
    "avnet['Distributor']='AVNET'\n",
    "avnet['CustomerID']=avnet['CustomerId']\n",
    "avnet['Customer']=avnet['ShipToCustomerName']\n",
    "avnet['Purchased']=''\n",
    "avnet['Address']=avnet['ShipToAddress1']\n",
    "avnet['City']=avnet['ShipToCity']\n",
    "avnet['State']=avnet['ShipToState']\n",
    "avnet['ZIP']=avnet['ShipToZipCode']\n",
    "avnet['Country']=avnet['ShipToCountry']\n",
    "avnet['Item Number']=avnet['VendorPartNumber']\n",
    "avnet['Quantity']=avnet['QuantityShipped']\n",
    "avnet['Acquisition Price']=avnet['UnitCost']\n",
    "avnet['Resale Price']=avnet['ResaleAmount']\n",
    "avnet=avnet[['Date','DistributorID','Distributor','CustomerID','Customer','Purchased','Address','City','State','ZIP','Country','Item Number','Quantity','Acquisition Price','Resale Price']]"
   ]
  },
  {
   "cell_type": "code",
   "execution_count": null,
   "id": "12732aed",
   "metadata": {},
   "outputs": [],
   "source": [
    "avnet.head()"
   ]
  },
  {
   "cell_type": "code",
   "execution_count": null,
   "id": "4e66df23",
   "metadata": {},
   "outputs": [],
   "source": [
    "avnet.tail()"
   ]
  },
  {
   "cell_type": "code",
   "execution_count": null,
   "id": "578d8fb0",
   "metadata": {},
   "outputs": [],
   "source": [
    "bjg['Date']=pd.to_datetime(bjg['Invoice Date'])\n",
    "bjg['DistributorID']=10922\n",
    "bjg['Distributor']='BJG, INC.'\n",
    "bjg['CustomerID']=''\n",
    "bjg['Customer']=bjg['Customer Name']\n",
    "bjg['Purchased']=''\n",
    "bjg['Address']=''\n",
    "bjg['City']=bjg['City']\n",
    "bjg['State']=bjg['State']\n",
    "bjg['ZIP']=bjg['Zip']\n",
    "bjg['Country']='US' #check\n",
    "bjg['Item Number']=bjg['Part']\n",
    "bjg['Quantity']=bjg['Qty Shipped']\n",
    "bjg['Acquisition Price']=bjg['Unit Cost']\n",
    "bjg['Resale Price']=bjg['Unit Price']\n",
    "bjg=bjg[['Date','DistributorID','Distributor','CustomerID','Customer','Purchased','Address','City','State','ZIP','Country','Item Number','Quantity','Acquisition Price','Resale Price']]"
   ]
  },
  {
   "cell_type": "code",
   "execution_count": null,
   "id": "5dddbe95",
   "metadata": {},
   "outputs": [],
   "source": [
    "bjg.head()"
   ]
  },
  {
   "cell_type": "code",
   "execution_count": null,
   "id": "8494bf2a",
   "metadata": {},
   "outputs": [],
   "source": [
    "bjg.tail()"
   ]
  },
  {
   "cell_type": "code",
   "execution_count": null,
   "id": "860ebd7d",
   "metadata": {},
   "outputs": [],
   "source": [
    "digikey['INV-DATE']=digikey.iloc[:,12].astype(str)\n",
    "digikey['Date']=digikey['INV-DATE'].str[4:6]+'/'+digikey['INV-DATE'].str[6:8]+'/'+digikey['INV-DATE'].str[0:4]\n",
    "digikey['Date']=pd.to_datetime(digikey['Date'])\n",
    "digikey['DistributorID']=12261\n",
    "digikey['Distributor']='DIGI-KEY'\n",
    "digikey['CustomerID']=digikey.iloc[:,2]\n",
    "digikey['Customer']=digikey.iloc[:,3]\n",
    "digikey['Purchased']=''\n",
    "digikey['Address']=digikey.iloc[:,4]\n",
    "digikey['City']=digikey.iloc[:,5]\n",
    "digikey['State']=digikey.iloc[:,6]\n",
    "digikey['ZIP']=digikey.iloc[:,7]\n",
    "digikey['Country']=digikey.iloc[:,19]\n",
    "digikey['Item Number']=digikey.iloc[:,8]\n",
    "digikey['Quantity']=digikey.iloc[:,9]\n",
    "digikey['Acquisition Price']=digikey.iloc[:,13]\n",
    "digikey['Resale Price']=digikey.iloc[:,14]\n",
    "digikey=digikey[['Date','DistributorID','Distributor','CustomerID','Customer','Purchased','Address','City','State','ZIP','Country','Item Number','Quantity','Acquisition Price','Resale Price']]"
   ]
  },
  {
   "cell_type": "code",
   "execution_count": null,
   "id": "56ed7cb9",
   "metadata": {},
   "outputs": [],
   "source": [
    "digikey.head()"
   ]
  },
  {
   "cell_type": "code",
   "execution_count": null,
   "id": "14440a95",
   "metadata": {},
   "outputs": [],
   "source": [
    "digikey.tail()"
   ]
  },
  {
   "cell_type": "code",
   "execution_count": null,
   "id": "e46258fc",
   "metadata": {},
   "outputs": [],
   "source": [
    "electro['Date']=pd.to_datetime(electro['Ship Date'])\n",
    "electro['DistributorID']=12418\n",
    "electro['Distributor']='ELECTRO ENTERPRISES'\n",
    "electro['CustomerID']=''\n",
    "electro['Customer']=electro['Customer Name']\n",
    "electro['Purchased']=''\n",
    "electro['Address']=''\n",
    "electro['City']=electro['Ship To City']\n",
    "electro['State']=electro['Ship To State']\n",
    "electro['ZIP']=electro['Ship To Zip']\n",
    "electro['Country']=electro['Ship To Country']\n",
    "electro['Item Number']=electro['Part Number']\n",
    "electro['Quantity']=electro['Qty']\n",
    "electro['Acquisition Price']=electro['Unit Cost']\n",
    "electro['Resale Price']=electro['Unit Resale']\n",
    "electro=electro[['Date','DistributorID','Distributor','CustomerID','Customer','Purchased','Address','City','State','ZIP','Country','Item Number','Quantity','Acquisition Price','Resale Price']]"
   ]
  },
  {
   "cell_type": "code",
   "execution_count": null,
   "id": "2818af5e",
   "metadata": {},
   "outputs": [],
   "source": [
    "electro.head()"
   ]
  },
  {
   "cell_type": "code",
   "execution_count": null,
   "id": "b3c54d18",
   "metadata": {},
   "outputs": [],
   "source": [
    "electro.tail()"
   ]
  },
  {
   "cell_type": "code",
   "execution_count": null,
   "id": "7fb6d348",
   "metadata": {},
   "outputs": [],
   "source": [
    "farnell=pd.merge(farnell, conversion1, left_on='Currency',right_on='Currency',how='inner')\n",
    "farnell['INV-DATE']=farnell['Date'].astype(str)\n",
    "farnell['Date']=farnell['INV-DATE'].str[4:6]+'/'+farnell['INV-DATE'].str[6:8]+'/'+farnell['INV-DATE'].str[0:4]\n",
    "farnell['Date']=pd.to_datetime(farnell['Date'])\n",
    "farnell['DistributorID']=12310\n",
    "farnell['Distributor']='FARNELL'\n",
    "farnell['CustomerID']=''\n",
    "farnell['Customer']=farnell['Customer Name']\n",
    "farnell['Purchased']=''\n",
    "farnell['Address']=''\n",
    "farnell['City']=''\n",
    "farnell['State']=''\n",
    "farnell['ZIP']=farnell['Post Code']\n",
    "farnell['Country']=farnell['Country Code']\n",
    "farnell['Item Number']=farnell['MFG Product Code']\n",
    "farnell['Quantity']=farnell['Qty']\n",
    "farnell['Acquisition Price']=farnell['Unit Cost System']*farnell['Currency to USD']\n",
    "farnell['Resale Price']=farnell['Unit Price Currency']*farnell['Currency to USD']\n",
    "farnell=farnell[['Date','DistributorID','Distributor','CustomerID','Customer','Purchased','Address','City','State','ZIP','Country','Item Number','Quantity','Acquisition Price','Resale Price']]"
   ]
  },
  {
   "cell_type": "code",
   "execution_count": null,
   "id": "af13e805",
   "metadata": {},
   "outputs": [],
   "source": [
    "farnell.head()"
   ]
  },
  {
   "cell_type": "code",
   "execution_count": null,
   "id": "0af333f0",
   "metadata": {},
   "outputs": [],
   "source": [
    "farnell.tail()"
   ]
  },
  {
   "cell_type": "code",
   "execution_count": null,
   "id": "c8803ccb",
   "metadata": {},
   "outputs": [],
   "source": [
    "heilind['INV-DATE']=heilind.iloc[:,12].astype(str)\n",
    "heilind['Date']=heilind['INV-DATE'].str[4:6]+'/'+heilind['INV-DATE'].str[6:8]+'/'+heilind['INV-DATE'].str[0:4]\n",
    "heilind['Date']=pd.to_datetime(heilind['Date'])\n",
    "heilind['DistributorID']=12296\n",
    "heilind['Distributor']='HEILIND'\n",
    "heilind['CustomerID']=heilind.iloc[:,2]\n",
    "heilind['Customer']=heilind.iloc[:,3]\n",
    "heilind['Purchased']=''\n",
    "heilind['Address']=heilind.iloc[:,4]\n",
    "heilind['City']=heilind.iloc[:,5]\n",
    "heilind['State']=heilind.iloc[:,6]\n",
    "heilind['ZIP']=heilind.iloc[:,7]\n",
    "heilind['Country']=heilind.iloc[:,19]\n",
    "heilind['Item Number']=heilind.iloc[:,8]\n",
    "heilind['Quantity']=heilind.iloc[:,9]\n",
    "heilind['Acquisition Price']=heilind.iloc[:,13]\n",
    "heilind['Resale Price']=heilind.iloc[:,14]\n",
    "heilind=heilind[['Date','DistributorID','Distributor','CustomerID','Customer','Purchased','Address','City','State','ZIP','Country','Item Number','Quantity','Acquisition Price','Resale Price']]"
   ]
  },
  {
   "cell_type": "code",
   "execution_count": null,
   "id": "5b8f8c09",
   "metadata": {},
   "outputs": [],
   "source": [
    "heilind.head()"
   ]
  },
  {
   "cell_type": "code",
   "execution_count": null,
   "id": "a5dd9199",
   "metadata": {},
   "outputs": [],
   "source": [
    "heilind.tail()"
   ]
  },
  {
   "cell_type": "code",
   "execution_count": null,
   "id": "f559a872",
   "metadata": {},
   "outputs": [],
   "source": [
    "heilindapac['INV-DATE']=heilindapac.iloc[:,12].astype(str)\n",
    "heilindapac['Date']=heilindapac['INV-DATE'].str[4:6]+'/'+heilindapac['INV-DATE'].str[6:8]+'/'+heilindapac['INV-DATE'].str[0:4]\n",
    "heilindapac['Date']=pd.to_datetime(heilindapac['Date'])\n",
    "heilindapac['DistributorID']=12296\n",
    "heilindapac['Distributor']='HEILIND - APAC'\n",
    "heilindapac['CustomerID']=heilindapac.iloc[:,2]\n",
    "heilindapac['Customer']=heilindapac.iloc[:,3]\n",
    "heilindapac['Purchased']=''\n",
    "heilindapac['Address']=heilindapac.iloc[:,4]\n",
    "heilindapac['City']=heilindapac.iloc[:,5]\n",
    "heilindapac['State']=heilindapac.iloc[:,6]\n",
    "heilindapac['ZIP']=heilindapac.iloc[:,7]\n",
    "heilindapac['Country']=heilindapac.iloc[:,19]\n",
    "heilindapac['Item Number']=heilindapac.iloc[:,8]\n",
    "heilindapac['Quantity']=heilindapac.iloc[:,9]\n",
    "heilindapac['Acquisition Price']=heilindapac.iloc[:,13]\n",
    "heilindapac['Resale Price']=heilindapac.iloc[:,14]\n",
    "heilindapac=heilindapac[['Date','DistributorID','Distributor','CustomerID','Customer','Purchased','Address','City','State','ZIP','Country','Item Number','Quantity','Acquisition Price','Resale Price']]"
   ]
  },
  {
   "cell_type": "code",
   "execution_count": null,
   "id": "5ba1cbe7",
   "metadata": {},
   "outputs": [],
   "source": [
    "heilindapac.head()"
   ]
  },
  {
   "cell_type": "code",
   "execution_count": null,
   "id": "e0fa5dbb",
   "metadata": {},
   "outputs": [],
   "source": [
    "heilindapac.tail()"
   ]
  },
  {
   "cell_type": "code",
   "execution_count": null,
   "id": "66c53e93",
   "metadata": {},
   "outputs": [],
   "source": [
    "heilindeurope['INV-DATE']=heilindeurope.iloc[:,12].astype(str)\n",
    "heilindeurope['Date']=heilindeurope['INV-DATE'].str[4:6]+'/'+heilindeurope['INV-DATE'].str[6:8]+'/'+heilindeurope['INV-DATE'].str[0:4]\n",
    "heilindeurope['Date']=pd.to_datetime(heilindeurope['Date'])\n",
    "heilindeurope['DistributorID']=12296\n",
    "heilindeurope['Distributor']='HEILIND - EUROPE'\n",
    "heilindeurope['CustomerID']=heilindeurope.iloc[:,2]\n",
    "heilindeurope['Customer']=heilindeurope.iloc[:,3]\n",
    "heilindeurope['Purchased']=''\n",
    "heilindeurope['Address']=heilindeurope.iloc[:,4]\n",
    "heilindeurope['City']=heilindeurope.iloc[:,5]\n",
    "heilindeurope['State']=heilindeurope.iloc[:,6]\n",
    "heilindeurope['ZIP']=heilindeurope.iloc[:,7]\n",
    "heilindeurope['Country']=heilindeurope.iloc[:,19]\n",
    "heilindeurope['Item Number']=heilindeurope.iloc[:,8]\n",
    "heilindeurope['Quantity']=heilindeurope.iloc[:,9]\n",
    "heilindeurope['Acquisition Price']=heilindeurope.iloc[:,13]\n",
    "heilindeurope['Resale Price']=heilindeurope.iloc[:,14]\n",
    "heilindeurope=heilindeurope[['Date','DistributorID','Distributor','CustomerID','Customer','Purchased','Address','City','State','ZIP','Country','Item Number','Quantity','Acquisition Price','Resale Price']]"
   ]
  },
  {
   "cell_type": "code",
   "execution_count": null,
   "id": "54757668",
   "metadata": {},
   "outputs": [],
   "source": [
    "heilindeurope.head()"
   ]
  },
  {
   "cell_type": "code",
   "execution_count": null,
   "id": "845cd70d",
   "metadata": {},
   "outputs": [],
   "source": [
    "heilindeurope.tail()"
   ]
  },
  {
   "cell_type": "code",
   "execution_count": null,
   "id": "fbca6a54",
   "metadata": {},
   "outputs": [],
   "source": [
    "master['INV-DATE']=master.iloc[:,15].astype(str)\n",
    "master['Date']=master['INV-DATE'].str[4:6]+'/'+master['INV-DATE'].str[6:8]+'/'+master['INV-DATE'].str[0:4]\n",
    "master['Date']=pd.to_datetime(master['Date'])\n",
    "master['DistributorID']=12483\n",
    "master['Distributor']='MASTER ELECTRONICS'\n",
    "master['CustomerID']=master.iloc[:,12]\n",
    "master['Customer']=master.iloc[:,13]\n",
    "master['Purchased']=''\n",
    "master['Address']=''\n",
    "master['City']=master.iloc[:,2]\n",
    "master['State']=master.iloc[:,3]\n",
    "master['ZIP']=master.iloc[:,4]\n",
    "master['Country']=master.iloc[:,25]\n",
    "master['Item Number']=master.iloc[:,5]\n",
    "master['Quantity']=master.iloc[:,6]\n",
    "master['Acquisition Price']=master.iloc[:,9]\n",
    "master['Resale Price']=master.iloc[:,10]\n",
    "master=master[['Date','DistributorID','Distributor','CustomerID','Customer','Purchased','Address','City','State','ZIP','Country','Item Number','Quantity','Acquisition Price','Resale Price']]"
   ]
  },
  {
   "cell_type": "code",
   "execution_count": null,
   "id": "99fe954f",
   "metadata": {},
   "outputs": [],
   "source": [
    "master.head()"
   ]
  },
  {
   "cell_type": "code",
   "execution_count": null,
   "id": "25c4a990",
   "metadata": {},
   "outputs": [],
   "source": [
    "master.tail()"
   ]
  },
  {
   "cell_type": "code",
   "execution_count": null,
   "id": "0e39b937",
   "metadata": {},
   "outputs": [],
   "source": [
    "mci['Date']=pd.to_datetime(mci['Invoice Date'])\n",
    "mci['DistributorID']=11436\n",
    "mci['Distributor']='MCI'\n",
    "mci['CustomerID']=mci['Customer ID']\n",
    "mci['Customer']=mci['Customer Name']\n",
    "mci['Purchased']=''\n",
    "mci['Address']=''\n",
    "mci['City']=mci['City']\n",
    "mci['State']=mci['State']\n",
    "mci['ZIP']=mci['Zip']\n",
    "mci['Country']=mci['Country']\n",
    "mci['Item Number']=mci['Part Number']\n",
    "mci['Quantity']=mci['Qty']\n",
    "mci['Acquisition Price']=mci['Unit Cost']\n",
    "mci['Resale Price']=mci['Resale cost']\n",
    "mci=mci[['Date','DistributorID','Distributor','CustomerID','Customer','Purchased','Address','City','State','ZIP','Country','Item Number','Quantity','Acquisition Price','Resale Price']]"
   ]
  },
  {
   "cell_type": "code",
   "execution_count": null,
   "id": "8cc2f7d5",
   "metadata": {},
   "outputs": [],
   "source": [
    "mci.head()"
   ]
  },
  {
   "cell_type": "code",
   "execution_count": null,
   "id": "be0bd3e6",
   "metadata": {},
   "outputs": [],
   "source": [
    "mci.tail()"
   ]
  },
  {
   "cell_type": "code",
   "execution_count": null,
   "id": "0342f0cf",
   "metadata": {},
   "outputs": [],
   "source": [
    "mouser['InvoiceDate']=mouser['DATE'].astype(str)\n",
    "mouser['Date']=mouser['InvoiceDate'].str[4:6]+'/'+mouser['InvoiceDate'].str[6:8]+'/'+mouser['InvoiceDate'].str[0:4]\n",
    "mouser['Date']=pd.to_datetime(mouser['Date'])\n",
    "mouser['DistributorID']=12093\n",
    "mouser['Distributor']='MOUSER'\n",
    "mouser['CustomerID']=mouser['ACCT.']\n",
    "mouser['Customer']=mouser['NAME']\n",
    "mouser['Purchased']=mouser['BRANCH']\n",
    "mouser['Address']=''\n",
    "mouser['City']=mouser['CITY']\n",
    "mouser['State']=mouser['STATE']\n",
    "mouser['ZIP']=mouser['ZIP']\n",
    "mouser['Country']=mouser['COUNTRY CODE']\n",
    "mouser['Item Number']=mouser['PART NO']\n",
    "mouser['Quantity']=mouser['QTY']\n",
    "mouser['Acquisition Price']=mouser['COST']\n",
    "mouser['Resale Price']=mouser['PRICE']\n",
    "mouser=mouser[['Date','DistributorID','Distributor','CustomerID','Customer','Purchased','Address','City','State','ZIP','Country','Item Number','Quantity','Acquisition Price','Resale Price']]"
   ]
  },
  {
   "cell_type": "code",
   "execution_count": null,
   "id": "dae597c9",
   "metadata": {},
   "outputs": [],
   "source": [
    "mouser.head()"
   ]
  },
  {
   "cell_type": "code",
   "execution_count": null,
   "id": "2ae0c992",
   "metadata": {},
   "outputs": [],
   "source": [
    "mouser.tail()"
   ]
  },
  {
   "cell_type": "code",
   "execution_count": null,
   "id": "056c0665",
   "metadata": {},
   "outputs": [],
   "source": [
    "newark['INV-DATE']=newark['Ship Date'].astype(str)\n",
    "newark['Date']=newark['INV-DATE'].str[4:6]+'/'+newark['INV-DATE'].str[6:8]+'/'+newark['INV-DATE'].str[0:4]\n",
    "newark['Date']=pd.to_datetime(newark['Date'])\n",
    "newark['DistributorID']=12303\n",
    "newark['Distributor']='NEWARK'\n",
    "newark['CustomerID']=newark['Ship-to Customer ID']\n",
    "newark['Customer']=newark.iloc[:,2]\n",
    "newark['Purchased']=''\n",
    "newark['Address']=newark.iloc[:,25]\n",
    "newark['City']=newark.iloc[:,3]\n",
    "newark['State']=newark.iloc[:,22]\n",
    "newark['ZIP']=newark.iloc[:,4]\n",
    "newark['Country']=newark.iloc[:,23]\n",
    "newark['Item Number']=newark.iloc[:,5]\n",
    "newark['Quantity']=newark.iloc[:,6]\n",
    "newark['Acquisition Price']=newark.iloc[:,10]\n",
    "newark['Resale Price']=newark.iloc[:,11]\n",
    "newark=newark[['Date','DistributorID','Distributor','CustomerID','Customer','Purchased','Address','City','State','ZIP','Country','Item Number','Quantity','Acquisition Price','Resale Price']]"
   ]
  },
  {
   "cell_type": "code",
   "execution_count": null,
   "id": "67b303cb",
   "metadata": {},
   "outputs": [],
   "source": [
    "newark.head()"
   ]
  },
  {
   "cell_type": "code",
   "execution_count": null,
   "id": "b88ef58d",
   "metadata": {},
   "outputs": [],
   "source": [
    "newark.tail()"
   ]
  },
  {
   "cell_type": "code",
   "execution_count": null,
   "id": "4acc83bd",
   "metadata": {},
   "outputs": [],
   "source": [
    "pei=pd.merge(pei, conversion1, left_on=pei.iloc[:,21],right_on='Currency',how='inner')\n",
    "pei['INV-DATE']=pei.iloc[:,10].astype(str)\n",
    "pei['Date']=pei['INV-DATE'].str[4:6]+'/'+pei['INV-DATE'].str[6:8]+'/'+pei['INV-DATE'].str[0:4]\n",
    "pei['Date']=pd.to_datetime(pei['Date'])\n",
    "pei['DistributorID']=12398\n",
    "pei['Distributor']='PEI'\n",
    "pei['CustomerID']=pei.iloc[:,14]\n",
    "pei['Customer']=pei.iloc[:,15]\n",
    "pei['Purchased']=''\n",
    "pei['Address']=pei.iloc[:,26]\n",
    "pei['City']=pei.iloc[:,3]\n",
    "pei['State']=pei.iloc[:,4]\n",
    "pei['ZIP']=pei.iloc[:,5]\n",
    "pei['Country']=pei.iloc[:,19]\n",
    "pei['Item Number']=pei.iloc[:,6]\n",
    "pei['Quantity']=pei.iloc[:,7]\n",
    "pei['Acquisition Price']=pei.iloc[:,11]*pei['Currency to USD']\n",
    "pei['Resale Price']=pei.iloc[:,12]*pei['Currency to USD']\n",
    "pei=pei[['Date','DistributorID','Distributor','CustomerID','Customer','Purchased','Address','City','State','ZIP','Country','Item Number','Quantity','Acquisition Price','Resale Price']]"
   ]
  },
  {
   "cell_type": "code",
   "execution_count": null,
   "id": "dc1350ce",
   "metadata": {},
   "outputs": [],
   "source": [
    "pei.head()"
   ]
  },
  {
   "cell_type": "code",
   "execution_count": null,
   "id": "df7b0859",
   "metadata": {},
   "outputs": [],
   "source": [
    "pei.tail()"
   ]
  },
  {
   "cell_type": "code",
   "execution_count": null,
   "id": "8a454db7",
   "metadata": {},
   "outputs": [],
   "source": [
    "#add %%script false to any distributor block that was missing for the month; this will skip it when run\n",
    "#comment out the respective head and tail"
   ]
  },
  {
   "cell_type": "code",
   "execution_count": null,
   "id": "20cb89d6",
   "metadata": {},
   "outputs": [],
   "source": [
    "%%script false\n",
    "peieurope=pd.merge(peieurope, conversion1, left_on=peieurope.iloc[:,21],right_on='Currency',how='inner')\n",
    "peieurope['INV-DATE']=peieurope.iloc[:,10].astype(str)\n",
    "peieurope['Date']=peieurope['INV-DATE'].str[4:6]+'/'+peieurope['INV-DATE'].str[6:8]+'/'+peieurope['INV-DATE'].str[0:4]\n",
    "peieurope['Date']=pd.to_datetime(peieurope['Date'])\n",
    "peieurope['DistributorID']=12385\n",
    "peieurope['Distributor']='PEI - EUROPE'\n",
    "peieurope['CustomerID']=peieurope.iloc[:,14]\n",
    "peieurope['Customer']=peieurope.iloc[:,15]\n",
    "peieurope['Purchased']=''\n",
    "peieurope['Address']=peieurope.iloc[:,26]\n",
    "peieurope['City']=peieurope.iloc[:,3]\n",
    "peieurope['State']=peieurope.iloc[:,4]\n",
    "peieurope['ZIP']=peieurope.iloc[:,5]\n",
    "peieurope['Country']=peieurope.iloc[:,19]\n",
    "peieurope['Item Number']=peieurope.iloc[:,6]\n",
    "peieurope['Quantity']=peieurope.iloc[:,7]\n",
    "peieurope['Acquisition Price']=peieurope.iloc[:,11]*peieurope['Currency to USD']\n",
    "peieurope['Resale Price']=peieurope.iloc[:,12]*peieurope['Currency to USD']\n",
    "peieurope=peieurope[['Date','DistributorID','Distributor','CustomerID','Customer','Purchased','Address','City','State','ZIP','Country','Item Number','Quantity','Acquisition Price','Resale Price']]\n",
    "peieurope=peieurope[~peieurope['Customer'].str.startswith('PEI')]"
   ]
  },
  {
   "cell_type": "code",
   "execution_count": null,
   "id": "5b73fc29",
   "metadata": {},
   "outputs": [],
   "source": [
    "#peieurope.head()"
   ]
  },
  {
   "cell_type": "code",
   "execution_count": null,
   "id": "0e8cb99c",
   "metadata": {},
   "outputs": [],
   "source": [
    "#peieurope.tail()"
   ]
  },
  {
   "cell_type": "code",
   "execution_count": null,
   "id": "a6f6f61c",
   "metadata": {},
   "outputs": [],
   "source": [
    "richardson['Date']=pd.to_datetime(richardson.iloc[:,7])\n",
    "richardson['DistributorID']=11550\n",
    "richardson['Distributor']='RICHARDSON'\n",
    "richardson['CustomerID']=richardson.iloc[:,0]\n",
    "richardson['Customer']=richardson.iloc[:,1]\n",
    "richardson['Purchased']=''\n",
    "richardson['Address']=''\n",
    "richardson['City']=richardson.iloc[:,2]\n",
    "richardson['State']=richardson.iloc[:,3]\n",
    "richardson['ZIP']=richardson.iloc[:,4]\n",
    "richardson['Country']=richardson.iloc[:,5]\n",
    "richardson['Country']=richardson['Country'].fillna('US') #check\n",
    "richardson['Item Number']=richardson.iloc[:,8]\n",
    "richardson['Quantity']=richardson.iloc[:,9]\n",
    "richardson['Acquisition Price']=richardson.iloc[:,10]\n",
    "richardson['Resale Price']=richardson.iloc[:,12]\n",
    "richardson=richardson[['Date','DistributorID','Distributor','CustomerID','Customer','Purchased','Address','City','State','ZIP','Country','Item Number','Quantity','Acquisition Price','Resale Price']]"
   ]
  },
  {
   "cell_type": "code",
   "execution_count": null,
   "id": "14388ebf",
   "metadata": {},
   "outputs": [],
   "source": [
    "richardson.head()"
   ]
  },
  {
   "cell_type": "code",
   "execution_count": null,
   "id": "b17415ac",
   "metadata": {},
   "outputs": [],
   "source": [
    "richardson.tail()"
   ]
  },
  {
   "cell_type": "code",
   "execution_count": null,
   "id": "5b319416",
   "metadata": {
    "scrolled": true
   },
   "outputs": [],
   "source": [
    "swift['Date']=pd.to_datetime(swift['INV DATE'])\n",
    "swift['DistributorID']=10915\n",
    "swift['Distributor']='SWIFT'\n",
    "swift['CustomerID']=swift['CUSNO'].str.replace(\"'\", '')\n",
    "swift['Customer']=swift['CUST']\n",
    "swift['Purchased']=''\n",
    "swift['Address']=''\n",
    "swift['City']=swift['CITY']\n",
    "swift['State']=swift['STATE']\n",
    "swift['ZIP']=swift['ZIP'].str.replace(\"'\", '') #check\n",
    "swift['Country']='US' #check\n",
    "swift['Item Number']=swift['PARTNO']\n",
    "swift['Quantity']=swift['QTY']\n",
    "swift['Acquisition Price']=swift['COST']\n",
    "swift['Resale Price']=swift['PRICE']\n",
    "swift=swift[['Date','DistributorID','Distributor','CustomerID','Customer','Purchased','Address','City','State','ZIP','Country','Item Number','Quantity','Acquisition Price','Resale Price']]"
   ]
  },
  {
   "cell_type": "code",
   "execution_count": null,
   "id": "e10ea062",
   "metadata": {},
   "outputs": [],
   "source": [
    "swift.head()"
   ]
  },
  {
   "cell_type": "code",
   "execution_count": null,
   "id": "42278f4d",
   "metadata": {},
   "outputs": [],
   "source": [
    "swift.tail()"
   ]
  },
  {
   "cell_type": "code",
   "execution_count": null,
   "id": "bf80da88",
   "metadata": {},
   "outputs": [],
   "source": [
    "tti['INV-DATE']=tti.iloc[:,15].astype(str)\n",
    "tti['Date']=tti['INV-DATE'].str[4:6]+'/'+tti['INV-DATE'].str[6:8]+'/'+tti['INV-DATE'].str[0:4]\n",
    "tti['Date']=pd.to_datetime(tti['Date'])\n",
    "tti['DistributorID']=11912\n",
    "tti['Distributor']='TTI, INC.'\n",
    "tti['CustomerID']=tti.iloc[:,2]\n",
    "tti['Customer']=tti.iloc[:,3]\n",
    "tti['Purchased']=''\n",
    "tti['Address']=tti.iloc[:,5]\n",
    "tti['City']=tti.iloc[:,6]\n",
    "tti['State']=tti.iloc[:,7]\n",
    "tti['ZIP']=tti.iloc[:,8]\n",
    "tti['Country']=tti.iloc[:,22]\n",
    "tti['Item Number']=tti.iloc[:,9]\n",
    "tti['Quantity']=tti.iloc[:,11]\n",
    "tti['Acquisition Price']=tti.iloc[:,16]\n",
    "tti['Resale Price']=tti.iloc[:,17]\n",
    "tti=tti[['Date','DistributorID','Distributor','CustomerID','Customer','Purchased','Address','City','State','ZIP','Country','Item Number','Quantity','Acquisition Price','Resale Price']]"
   ]
  },
  {
   "cell_type": "code",
   "execution_count": null,
   "id": "586578bb",
   "metadata": {},
   "outputs": [],
   "source": [
    "tti.head()"
   ]
  },
  {
   "cell_type": "code",
   "execution_count": null,
   "id": "db09682a",
   "metadata": {},
   "outputs": [],
   "source": [
    "tti.tail()"
   ]
  },
  {
   "cell_type": "code",
   "execution_count": null,
   "id": "8a05aa04",
   "metadata": {},
   "outputs": [],
   "source": [
    "ttieurope=pd.merge(ttieurope, conversion1, left_on=ttieurope.iloc[:,40],right_on='Currency',how='inner')\n",
    "ttieurope['INV-DATE']=ttieurope.iloc[:,15].astype(str)\n",
    "ttieurope['Date']=ttieurope['INV-DATE'].str[4:6]+'/'+ttieurope['INV-DATE'].str[6:8]+'/'+ttieurope['INV-DATE'].str[0:4]\n",
    "ttieurope['Date']=pd.to_datetime(ttieurope['Date'])\n",
    "ttieurope['DistributorID']=11912\n",
    "ttieurope['Distributor']='TTI - EUROPE'\n",
    "ttieurope['CustomerID']=ttieurope.iloc[:,2]\n",
    "ttieurope['Customer']=ttieurope.iloc[:,3]\n",
    "ttieurope['Purchased']=''\n",
    "ttieurope['Address']=ttieurope.iloc[:,5]\n",
    "ttieurope['City']=''\n",
    "ttieurope['State']=ttieurope.iloc[:,7]\n",
    "ttieurope['ZIP']=ttieurope.iloc[:,6]\n",
    "ttieurope['Country']=ttieurope.iloc[:,22]\n",
    "ttieurope['Item Number']=ttieurope.iloc[:,9]\n",
    "ttieurope['Quantity']=ttieurope.iloc[:,11]\n",
    "ttieurope['Acquisition Price']=ttieurope.iloc[:,16]*ttieurope['Currency to USD']\n",
    "ttieurope['Resale Price']=ttieurope.iloc[:,17]*ttieurope['Currency to USD']\n",
    "ttieurope=ttieurope[['Date','DistributorID','Distributor','CustomerID','Customer','Purchased','Address','City','State','ZIP','Country','Item Number','Quantity','Acquisition Price','Resale Price']]"
   ]
  },
  {
   "cell_type": "code",
   "execution_count": null,
   "id": "f21f5c42",
   "metadata": {},
   "outputs": [],
   "source": [
    "ttieurope.head()"
   ]
  },
  {
   "cell_type": "code",
   "execution_count": null,
   "id": "d75d2320",
   "metadata": {},
   "outputs": [],
   "source": [
    "ttieurope.tail()"
   ]
  },
  {
   "cell_type": "code",
   "execution_count": null,
   "id": "82385f07",
   "metadata": {},
   "outputs": [],
   "source": [
    "#concatenate data from all files; delete any that were missing\n",
    "pos=pd.concat([aepetsche, applied, arrow, avnet, bjg, digikey, electro, farnell, heilind, heilindapac, heilindeurope, master, mci, mouser, newark, pei, richardson, swift, tti, ttieurope], axis=0)\n",
    "len(pos)"
   ]
  },
  {
   "cell_type": "code",
   "execution_count": null,
   "id": "b1409e70",
   "metadata": {},
   "outputs": [],
   "source": [
    "#various cleaning\n",
    "pos=pos.reset_index()\n",
    "pos['Date']=pd.to_datetime(pos['Date']).dt.date\n",
    "pos['Customer']=pos['Customer'].str.replace(r'\\s+', ' ', regex=True).str.strip().str.upper()\n",
    "pos['City']=pos['City'].str.replace(r'\\s+', ' ', regex=True).str.strip().str.upper().str.replace('\\d+', '').str.replace('-', ' ').str.replace(r\"\\(.*\\)\",\"\")\n",
    "pos['State']=pos['State'].str.strip().str.upper()\n",
    "pos['Country']=pos['Country'].str.strip().str.upper()\n",
    "pos['Item Number']=pos['Item Number'].str.strip().str.replace('-B','')\n",
    "pos['Quantity']=pos['Quantity'].astype(str).str.strip().str.replace(',','').str.replace('(','-').str.replace(')','')\n",
    "pos['Quantity']=pd.to_numeric(pos['Quantity'])\n",
    "pos['Acquisition Price']=pos['Acquisition Price'].astype(str).str.strip().str.replace(',','').str.replace('$','').str.replace('(','-').str.replace(')','').str.replace('nan','0')\n",
    "pos['Acquisition Price']=pd.to_numeric(pos['Acquisition Price'])\n",
    "pos['Resale Price']=pos['Resale Price'].astype(str).str.strip().str.replace(',','').str.replace('$','').str.replace('(','-').str.replace(')','')\n",
    "pos['Resale Price']=pd.to_numeric(pos['Resale Price'])"
   ]
  },
  {
   "cell_type": "code",
   "execution_count": null,
   "id": "9a8a9361",
   "metadata": {},
   "outputs": [],
   "source": [
    "#view each distributor's POS $\n",
    "pos['Total Resale']=pos['Quantity']*pos['Resale Price']\n",
    "pos.groupby(['Distributor'])['Total Resale'].sum().reset_index"
   ]
  },
  {
   "cell_type": "code",
   "execution_count": null,
   "id": "6b67546e",
   "metadata": {},
   "outputs": [],
   "source": [
    "#view total POS\n",
    "pos['Total Resale'].sum()"
   ]
  },
  {
   "cell_type": "code",
   "execution_count": null,
   "id": "1c18720c",
   "metadata": {},
   "outputs": [],
   "source": [
    "#drop total resale column - only using it for a quick view\n",
    "pos=pos.drop(['Total Resale'], axis = 1)"
   ]
  },
  {
   "cell_type": "code",
   "execution_count": null,
   "id": "ba8ab29c",
   "metadata": {},
   "outputs": [],
   "source": [
    "#customer name standardization - distributors don't have a uniform way of reporting customer names\n",
    "#for better analysis on our end, we need to edit names that come in each month\n",
    "#the code in this cell identifies 'new' customers that haven't appeared before (using a local file of historical POS to check)\n",
    "master=pd.read_csv('POS.csv',encoding='latin')\n",
    "pos1=master['Customer Name (Standardized)'].unique()\n",
    "pos1=pd.DataFrame(pos1)\n",
    "pos1.columns = ['Existing']\n",
    "new=pos\n",
    "new=new['Customer'].unique()\n",
    "new=pd.DataFrame(new)\n",
    "new.columns = ['New']\n",
    "merged=new.merge(pos1, how='left', left_on='New', right_on='Existing', indicator=True)\n",
    "newcustomers=merged[merged['_merge']=='left_only']\n",
    "cref=pd.read_csv('CRef.csv',encoding='latin')\n",
    "newcustomers=pd.merge(newcustomers,cref,left_on='New',right_on='Customer Name',how='left')\n",
    "newcustomers=newcustomers[newcustomers['Customer Name'].isnull()]\n",
    "len(newcustomers)"
   ]
  },
  {
   "cell_type": "code",
   "execution_count": null,
   "id": "8508bef1",
   "metadata": {},
   "outputs": [],
   "source": [
    "#newcustomers"
   ]
  },
  {
   "cell_type": "code",
   "execution_count": null,
   "id": "33cd7716",
   "metadata": {},
   "outputs": [],
   "source": [
    "#manually scan through this list, compare to list of names in local file POS.csv and add any changes to local file CRef.csv\n",
    "newcustomers.to_excel('C:/Users/chines/Downloads/NewCustomersInitialCheck.xlsx', index = False, header=True)"
   ]
  },
  {
   "cell_type": "code",
   "execution_count": null,
   "id": "01bc10bb",
   "metadata": {},
   "outputs": [],
   "source": [
    "#pos[pos['Customer'].str.startswith('V')]"
   ]
  },
  {
   "cell_type": "code",
   "execution_count": null,
   "id": "069d8c2d",
   "metadata": {},
   "outputs": [],
   "source": [
    "#local file of country names and their market region\n",
    "region=pd.read_csv('MarketRegion.csv').drop_duplicates(subset=['Country Name'])\n",
    "region['Country Name']=region['Country Name'].str.strip().str.upper()\n",
    "region['Country Code']=region['Country Code'].str.strip().str.upper()\n",
    "pos=pd.merge(pos,region,left_on='Country',right_on='Country Name',how='left')\n",
    "pos['CountryFinal']=''\n",
    "pos.loc[pos['Country Name'].notnull(), 'CountryFinal'] = pos['Country Code']\n",
    "pos.loc[pos['Country Name'].isnull(), 'CountryFinal'] = pos.Country"
   ]
  },
  {
   "cell_type": "code",
   "execution_count": null,
   "id": "fb62cd5d",
   "metadata": {},
   "outputs": [],
   "source": [
    "#local file of customer names as sent to us matched to what we decide is the standardized name\n",
    "#this should now include the latest month's fixes\n",
    "cref=pd.read_csv('CRef.csv', encoding='latin').drop_duplicates(subset=['Customer Name'])\n",
    "cref['Customer Name']=cref['Customer Name'].str.strip().str.upper()\n",
    "cref['CustomerNew']=cref['CustomerNew'].str.strip().str.upper()\n",
    "pos=pd.merge(pos,cref,left_on='Customer',right_on='Customer Name',how='left')\n",
    "pos['CustomerFinal']=''\n",
    "pos.loc[pos['Customer Name'].notnull(), 'CustomerFinal'] = pos['CustomerNew']\n",
    "pos.loc[pos['Customer Name'].isnull(), 'CustomerFinal'] = pos['Customer']"
   ]
  },
  {
   "cell_type": "code",
   "execution_count": null,
   "id": "bfc3aeac",
   "metadata": {},
   "outputs": [],
   "source": [
    "pos=pos.drop(['Customer Name','CustomerNew','Country','Country Name','Country Code'], axis = 1)\n",
    "pos.rename(columns={'CountryFinal':'Country'},inplace=True)\n",
    "pos.rename(columns={'Customer':'Original Customer Name'},inplace=True)\n",
    "pos.rename(columns={'CustomerFinal':'Customer'},inplace=True)"
   ]
  },
  {
   "cell_type": "code",
   "execution_count": null,
   "id": "d35d02fb",
   "metadata": {},
   "outputs": [],
   "source": [
    "#zip code cleaning\n",
    "pos.loc[pos['Country']!='US', 'ZIP'] = '0'\n",
    "pos['ZIP']=pos['ZIP'].str.strip().fillna('0')\n",
    "pos.loc[pos.ZIP=='nan', 'ZIP'] = '0'\n",
    "pos['ZIP']=pos['ZIP'].str.replace('-','')\n",
    "pos['lzip']=pos['ZIP'].str.len()\n",
    "pos.loc[pos.lzip==4, 'ZIP'] = '0'+pos.ZIP\n",
    "pos.loc[pos.lzip==8, 'ZIP'] = '0'+pos.ZIP.str[0:4]\n",
    "pos.loc[pos.lzip==9, 'ZIP'] = pos.ZIP.str[0:5]"
   ]
  },
  {
   "cell_type": "code",
   "execution_count": null,
   "id": "c2d2af4b",
   "metadata": {},
   "outputs": [],
   "source": [
    "#tag rep codes based on territory, other rules\n",
    "pos['Rep Code']=401\n",
    "pos.loc[pos.State.isin(['ME','NH','VT','MA','RI','CT']), 'Rep Code'] = 548\n",
    "pos.loc[(pos['State']=='CT') & (pos['ZIP'].str.startswith('06')), 'Rep Code'] = 401\n",
    "pos.loc[pos.State.isin(['AZ','NM']), 'Rep Code'] = 564\n",
    "pos.loc[pos.State.isin(['MD','VA','WV','DC','DE']), 'Rep Code'] = 555\n",
    "pos.loc[pos.State.isin(['UT','ID','MT','CO','WY']), 'Rep Code'] = 551\n",
    "pos.loc[pos.State.isin(['AS','OK','TX','LA']), 'Rep Code'] = 565\n",
    "pos.loc[(pos['Customer'].isin(['RAYTHEON','DUCOMMUN'])) & (pos['Rep Code']==565), 'Rep Code'] = 401\n",
    "pos['ZIP']=pd.to_numeric(pos['ZIP'], errors='coerce')\n",
    "pos['ZIP']=pos['ZIP'].fillna('0')\n",
    "pos.loc[pos.Country.isin(['US']), 'ZIP'] = pos['ZIP'].astype(int)\n",
    "pos.loc[(pos['State']=='NY') & (pos['ZIP']>=12000), 'Rep Code'] = 566\n",
    "pos.loc[(pos['State']=='NY') & (pos['ZIP'].isin([12518,12520,12543,12549,12550,12551,12552,12553,12563,12555,12575,12577,12584,12586,12729,12746,12771,12780])), 'Rep Code'] = 401\n",
    "pos.loc[(pos['State']=='CA') & (pos['ZIP'].between(90001,93591,inclusive=True)), 'Rep Code'] = 567\n",
    "pos.loc[(pos['State']=='CA') & (pos['ZIP'].between(93600,96099,inclusive=True)), 'Rep Code'] = 331\n",
    "pos.loc[(pos['State']=='CA') & (pos['ZIP'].between(91901,92199,inclusive=True)), 'Rep Code'] = 401\n",
    "pos.loc[(pos['Customer']=='NORTHROP GRUMMAN') & (pos['City'].isin(['EL SEGUNDO','EL REDONDO','REDONDO BEACH'])), 'Rep Code'] = 374\n",
    "pos.loc[(pos['Customer'].str.contains('AMPHENOL')) & (pos['Country']=='US'), 'Rep Code'] = 401\n",
    "\n",
    "pos.loc[~pos['Country'].isin(['USA','US','UNITED STATES']), 'Rep Code'] = 601\n",
    "pos.loc[pos['Market Region']=='EMEA', 'Rep Code'] = 701\n",
    "\n",
    "pos.loc[pos.Customer=='SPACE-X', 'Rep Code'] = 567\n",
    "pos.loc[pos.Customer=='SIERRA NEVADA', 'Rep Code'] = 331\n",
    "pos.loc[pos.Customer=='MACROLINK', 'Rep Code'] = 374\n",
    "pos.loc[pos.Customer=='SV MICROWAVE', 'Rep Code'] = 401\n",
    "pos.loc[pos.Customer=='FAIRVIEW MICROWAVE', 'Rep Code'] = 401\n",
    "pos.loc[pos.Customer=='TELEDYNE', 'Rep Code'] = 401\n",
    "pos.loc[pos.Customer=='GRAYHILL', 'Rep Code'] = 401\n",
    "pos.loc[pos.Customer=='MASSACHUSETTS INSTITUTE OF TECHNOLOGY', 'Rep Code'] = 401\n",
    "pos.loc[pos.Customer=='US ARMY', 'Rep Code'] = 401\n",
    "pos.loc[pos.Customer=='US NAVY', 'Rep Code'] = 401\n",
    "pos.loc[pos.Customer=='US AIR FORCE', 'Rep Code'] = 401\n",
    "pos.loc[pos.Customer=='US COAST GUARD', 'Rep Code'] = 401\n",
    "pos.loc[pos.Customer=='US GOVERNMENT', 'Rep Code'] = 401\n",
    "pos.loc[pos.Customer=='US MARINES', 'Rep Code'] = 401\n",
    "pos.loc[pos.Customer=='NASA', 'Rep Code'] = 401\n",
    "pos.loc[pos.Customer=='DLA', 'Rep Code'] = 401\n",
    "pos.loc[pos.Customer=='INSULATED WIRE', 'Rep Code'] = 401\n",
    "pos.loc[pos.Customer=='JDSU', 'Rep Code'] = 401\n",
    "pos.loc[pos.Customer=='FIRST SOURCE ELECTRONICS', 'Rep Code'] = 401\n",
    "pos.loc[(pos.Customer=='LOCKHEED MARTIN') & (pos['Item Number'].isin(['SF2960-6939','SF2960-6610','SF2960-6740','SF2960-6619'])), 'Rep Code'] = 401\n",
    "pos.loc[(pos['Market Region']=='APAC') & (pos['Customer']=='TERADYNE'), 'Rep Code'] = 548\n",
    "pos.loc[(pos['Market Region']=='APAC') & (pos['Customer']=='TELEDYNE'), 'Rep Code'] = 601\n",
    "pos.loc[(pos['Market Region']=='EMEA') & (pos['Customer']=='TELEDYNE'), 'Rep Code'] = 701\n",
    "\n",
    "pos.loc[pos.Customer=='MOUSER', 'Rep Code'] = 401\n",
    "pos.loc[pos.Customer=='TTI', 'Rep Code'] = 401\n",
    "pos.loc[pos.Customer=='DIGI-KEY', 'Rep Code'] = 401\n",
    "pos.loc[pos.Customer=='MICROWAVE COMPONENTS', 'Rep Code'] = 401\n",
    "pos.loc[pos.Customer=='C.W. SWIFT & ASSOCIATES', 'Rep Code'] = 401\n",
    "pos.loc[pos.Customer=='APPLIED SPECIALTIES', 'Rep Code'] = 401\n",
    "pos.loc[pos.Customer=='ARROW ELECTRONICS', 'Rep Code'] = 401\n",
    "pos.loc[pos.Customer=='A.E. PETSCHE', 'Rep Code'] = 401\n",
    "pos.loc[pos.Customer=='AVNET', 'Rep Code'] = 401\n",
    "pos.loc[pos.Customer=='BJG ELECTRONICS', 'Rep Code'] = 401\n",
    "pos.loc[pos.Customer=='ELECTRO ENTERPRISES', 'Rep Code'] = 401\n",
    "pos.loc[pos.Customer=='NEWARK', 'Rep Code'] = 401\n",
    "pos.loc[pos.Customer=='HEILIND', 'Rep Code'] = 401\n",
    "pos.loc[pos.Customer=='MASTER ELECTRONICS', 'Rep Code'] = 401\n",
    "pos.loc[pos.Customer=='PEI-GENESIS', 'Rep Code'] = 401\n",
    "pos.loc[pos.Customer=='RICHARDSON RFPD', 'Rep Code'] = 401\n",
    "pos.loc[pos.Customer=='SPIRIT ELECTRONICS', 'Rep Code'] = 401\n",
    "pos.loc[pos.Customer=='FARNELL', 'Rep Code'] = 701\n",
    "pos.loc[pos.Customer=='KOEHLKE COMPONENTS', 'Rep Code'] = 401\n",
    "pos.loc[pos.Customer=='CASTLE', 'Rep Code'] = 401\n",
    "pos.loc[pos.Customer=='SOLLA-TRONICS', 'Rep Code'] = 401\n",
    "pos.loc[pos.Customer=='RF DEPOT', 'Rep Code'] = 401\n",
    "pos.loc[pos.Customer=='CPN/DENELEX', 'Rep Code'] = 401\n",
    "pos.loc[pos.Customer=='POWELL ELECTRONICS', 'Rep Code'] = 401\n",
    "pos.loc[pos.Customer=='RESCO', 'Rep Code'] = 401\n",
    "pos.loc[pos.Customer=='JAC INTL', 'Rep Code'] = 401\n",
    "pos.loc[pos.Customer=='M-RF', 'Rep Code'] = 401\n",
    "\n",
    "pos.loc[pos.Country=='IL', 'Rep Code'] = 559\n",
    "pos.loc[pos.Country=='IN', 'Rep Code'] = 630\n",
    "pos.loc[pos.Country=='TR', 'Rep Code'] = 650"
   ]
  },
  {
   "cell_type": "code",
   "execution_count": null,
   "id": "0e0be6f2",
   "metadata": {},
   "outputs": [],
   "source": [
    "#clean ZIP codes again\n",
    "pos['ZIP']=pos['ZIP'].astype(str)\n",
    "pos.loc[pos['Country']!='US', 'ZIP'] = ''\n",
    "pos.loc[pos['Country']!='US', 'State'] = ''\n",
    "pos.loc[pos['ZIP']=='0', 'ZIP'] = ''\n",
    "pos['lzip']=pos['ZIP'].str.len()\n",
    "pos.loc[pos.lzip==4, 'ZIP'] = '0'+pos.ZIP"
   ]
  },
  {
   "cell_type": "code",
   "execution_count": null,
   "id": "a1325bc2",
   "metadata": {},
   "outputs": [],
   "source": [
    "#assign rep commissions\n",
    "pos['Commission']=pos['Quantity']*pos['Acquisition Price']*.05\n",
    "pos.loc[pos['Rep Code'].isin([401,601,610,630,650,701]), 'Commission'] = 0\n",
    "pos.loc[(pos['Rep Code']==555) & (pos['Item Number'].isin(['7080-0638','7080-0639'])), 'Commission'] = pos['Quantity']*pos['Acquisition Price']*.025\n",
    "pos.loc[(pos['Rep Code']==548) & (pos['Item Number']=='1211-66317'), 'Commission'] = pos['Commission']*1/2\n",
    "pos.loc[(pos['Rep Code']==566) & (pos['Item Number']=='SF1211-66198-TD'), 'Commission'] = pos['Commission']*2/3\n",
    "#pos.loc[(pos['Rep Code']==551) & (pos['Item Number'].isin(['8721-60016','SF1212-6000','SF2991-6002'])) & (pos['Customer']=='PLEXUS'), 'Commission'] = pos['Commission']*1/3"
   ]
  },
  {
   "cell_type": "code",
   "execution_count": null,
   "id": "6ef96a6c",
   "metadata": {},
   "outputs": [],
   "source": [
    "#view each distributor's POS $ as check to verify nothing changed since last time viewed\n",
    "pos['Total Resale']=pos['Quantity']*pos['Resale Price']\n",
    "pos.groupby(['Distributor'])['Total Resale'].sum().reset_index"
   ]
  },
  {
   "cell_type": "code",
   "execution_count": null,
   "id": "b4bd07d8",
   "metadata": {},
   "outputs": [],
   "source": [
    "#verify total POS $\n",
    "pos['Total Resale'].sum()"
   ]
  },
  {
   "cell_type": "code",
   "execution_count": null,
   "id": "d5860735",
   "metadata": {},
   "outputs": [],
   "source": [
    "pos=pos.drop(['Total Resale'], axis = 1)"
   ]
  },
  {
   "cell_type": "code",
   "execution_count": null,
   "id": "78c72ee1",
   "metadata": {},
   "outputs": [],
   "source": [
    "#item number clean-up\n",
    "crosses=pd.read_csv('Crosses.csv').drop_duplicates(subset=['Customer Item'])\n",
    "pos=pd.merge(pos,crosses, left_on='Item Number',right_on='Customer Item',how='left')\n",
    "pos.loc[pos['Customer Item'].notnull(), 'Item Number'] = pos['SV Item']\n",
    "pos=pos.drop(['Customer Item','SV Item'], axis = 1)"
   ]
  },
  {
   "cell_type": "code",
   "execution_count": null,
   "id": "ddd63893",
   "metadata": {},
   "outputs": [],
   "source": [
    "#add some new columns\n",
    "pos['Commission Status']='Unapproved'\n",
    "pos['Total Acquisition']=pos['Quantity']*pos['Acquisition Price']\n",
    "pos['Total Resale']=pos['Quantity']*pos['Resale Price']"
   ]
  },
  {
   "cell_type": "code",
   "execution_count": null,
   "id": "9c253e90",
   "metadata": {},
   "outputs": [],
   "source": [
    "#assign POS ID to match what is in SQL database (pull this file each month)\n",
    "xref=pd.read_csv('POSCustomerXRef.csv').drop_duplicates(subset=['CustomerName'])\n",
    "xref=xref[['CustomerName','CustomerID2']]\n",
    "pos=pd.merge(pos,xref,left_on='Customer',right_on='CustomerName',how='left')\n",
    "pos.rename(columns={'CustomerID2':'POS Customer ID'},inplace=True)"
   ]
  },
  {
   "cell_type": "code",
   "execution_count": null,
   "id": "4b100258",
   "metadata": {},
   "outputs": [],
   "source": [
    "#two separate uploads - one for company-wide SQL database, one for backup\n",
    "pos1=pos[['Date','DistributorID','Distributor','CustomerID','Customer','Purchased','Address','City','State','ZIP','Country','Item Number','Quantity','Acquisition Price','Resale Price','Rep Code','Commission']]\n",
    "posupload=pos[['Rep Code','Date','DistributorID','Distributor','Original Customer Name','Customer','POS Customer ID','City','State','ZIP','Country','Item Number','Quantity','Acquisition Price','Resale Price','Total Acquisition','Total Resale','Commission','Commission Status']]"
   ]
  },
  {
   "cell_type": "code",
   "execution_count": null,
   "id": "38411a7e",
   "metadata": {},
   "outputs": [],
   "source": [
    "#quickly verify length of table matches the last time length was checked\n",
    "len(pos1)"
   ]
  },
  {
   "cell_type": "code",
   "execution_count": null,
   "id": "8b3c0f57",
   "metadata": {},
   "outputs": [],
   "source": [
    "posupload.to_excel('C:/Users/chines/Downloads/September2022POS.xlsx', index = False, header=True)"
   ]
  },
  {
   "cell_type": "code",
   "execution_count": null,
   "id": "3ee6d234",
   "metadata": {},
   "outputs": [],
   "source": [
    "pos1.to_excel('C:/Users/chines/Downloads/September2022POS - Excel.xlsx', index = False, header=True)"
   ]
  }
 ],
 "metadata": {
  "kernelspec": {
   "display_name": "Python 3 (ipykernel)",
   "language": "python",
   "name": "python3"
  },
  "language_info": {
   "codemirror_mode": {
    "name": "ipython",
    "version": 3
   },
   "file_extension": ".py",
   "mimetype": "text/x-python",
   "name": "python",
   "nbconvert_exporter": "python",
   "pygments_lexer": "ipython3",
   "version": "3.8.8"
  }
 },
 "nbformat": 4,
 "nbformat_minor": 5
}
