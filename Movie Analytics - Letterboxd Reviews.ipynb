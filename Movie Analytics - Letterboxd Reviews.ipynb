{
 "cells": [
  {
   "cell_type": "code",
   "execution_count": null,
   "id": "622022ae",
   "metadata": {},
   "outputs": [],
   "source": [
    "#this file analyzes the movie ratings that my friends and I have given on the Letterboxd app!\n",
    "#each file contains our movie ratings as well as a link to each movie's landing page\n",
    "#i then do some web scraping and pull the cast list for each movie, assigning them whatever score that 'critic' gave the movie\n",
    "#the goal of this fun exercise is to identify which actors we 'like' the best in aggregate - measuring this by average score we give to the movies they are in\n",
    "\n",
    "import pandas as pd\n",
    "import requests\n",
    "from bs4 import BeautifulSoup as bs"
   ]
  },
  {
   "cell_type": "code",
   "execution_count": null,
   "id": "7b9add6d",
   "metadata": {},
   "outputs": [],
   "source": [
    "#pull Letterboxd .csvs that my friends have sent me, as well as mine\n",
    "cam=pd.read_csv('ratings.csv')\n",
    "cam['Critic']='Cam'\n",
    "emmett=pd.read_csv('EmmettLB.csv')\n",
    "emmett['Critic']='Emmett'\n",
    "sam=pd.read_csv('SamLB.csv')\n",
    "sam['Critic']='Sam'\n",
    "cam.head()"
   ]
  },
  {
   "cell_type": "code",
   "execution_count": null,
   "id": "9529eeea",
   "metadata": {},
   "outputs": [],
   "source": [
    "#show average ratings for each person\n",
    "df=pd.concat([cam,emmett,sam],axis=0)\n",
    "df['Rating']=df['Rating'].apply(lambda x: float(\"{:.2f}\".format(x)))\n",
    "df.groupby('Critic')['Rating'].mean().apply(lambda x: float(\"{:.2f}\".format(x))).reset_index()"
   ]
  },
  {
   "cell_type": "code",
   "execution_count": null,
   "id": "9f48f459",
   "metadata": {},
   "outputs": [],
   "source": [
    "#show how far off average rating is from 3 (designated midpoint rating)\n",
    "df1=df.groupby('Critic')['Rating'].mean().reset_index()\n",
    "df1['Standard']=3\n",
    "df1['Away']=df1['Rating']/df1['Standard']\n",
    "df1['Away']=df1['Away'].apply(lambda x: float(\"{:.2f}\".format(x)))\n",
    "df1=df1[['Critic','Away']]\n",
    "df1.head()"
   ]
  },
  {
   "cell_type": "code",
   "execution_count": null,
   "id": "30862685",
   "metadata": {},
   "outputs": [],
   "source": [
    "#adjust ratings\n",
    "df=pd.merge(df,df1,on='Critic',how='left')\n",
    "df['New Rating']=df['Rating']/df['Away']\n",
    "df=df[['Date','Name','Year','Letterboxd URI','New Rating']]\n",
    "df.rename(columns={'New Rating':'Rating'},inplace=True)"
   ]
  },
  {
   "cell_type": "code",
   "execution_count": null,
   "id": "1cc81409",
   "metadata": {},
   "outputs": [],
   "source": [
    "#group movies by mean adjusted rating\n",
    "df=df.groupby(['Name','Letterboxd URI'])['Rating'].mean().reset_index()\n",
    "\n",
    "#build master data frame\n",
    "columns = ['Movie', 'Actor', 'Rating']\n",
    "new_df = pd.DataFrame(columns=columns)\n",
    "\n",
    "#pull cast list from each movie, and assign scores\n",
    "for index, row in df.iterrows():\n",
    "    \n",
    "    # request content and fetching a-tag inside cast_list div\n",
    "    r = requests.get(row['Letterboxd URI'])\n",
    "    soup = bs(r.content, 'lxml')\n",
    "    # as each cast encapsulate inside <a> and <div cast-list...>\n",
    "    cast_soup = soup.select_one('[class=\"cast-list text-sluglist\"]')\n",
    "    try: \n",
    "        cast_list = [a.get_text().strip() for a in cast_soup.find_all(\"a\")] \n",
    "    except: \n",
    "        pass \n",
    "    \n",
    "    # putting data into new_df\n",
    "    movie, rating = row['Name'], row['Rating'] # old value from tables\n",
    "    for cast in cast_list:\n",
    "        df_ = pd.DataFrame([[movie, cast, rating]], columns=columns)\n",
    "        new_df = pd.concat([new_df, df_])\n",
    "        \n",
    "new_df = new_df.reset_index(drop=True)\n",
    "new_df #each cast member from each movie in list with their rating for that movie"
   ]
  },
  {
   "cell_type": "code",
   "execution_count": null,
   "id": "fbe38d9a",
   "metadata": {},
   "outputs": [],
   "source": [
    "#group by actor, show mean rating, list of movies they are in, and number of movies\n",
    "master=new_df.groupby(['Actor']).agg({'Rating': 'mean', 'Movie':'count', 'Movie':'unique'}).reset_index()\n",
    "master['Rating']=master['Rating'].apply(lambda x: float(\"{:.2f}\".format(x)))\n",
    "master['Movie Count']=master['Movie'].str.len()\n",
    "\n",
    "#various queries\n",
    "master[master['Movie Count']>10].sort_values(by='Rating', ascending=False).head() #willem dafoe is the winner\n",
    "#master.sort_values(by='Rating', ascending=False).head(25)\n",
    "#master.sort_values(by='Rating', ascending=True).head(25)\n",
    "#master[master['Actor'].str.startswith('Brad Pitt')]"
   ]
  }
 ],
 "metadata": {
  "kernelspec": {
   "display_name": "Python 3 (ipykernel)",
   "language": "python",
   "name": "python3"
  },
  "language_info": {
   "codemirror_mode": {
    "name": "ipython",
    "version": 3
   },
   "file_extension": ".py",
   "mimetype": "text/x-python",
   "name": "python",
   "nbconvert_exporter": "python",
   "pygments_lexer": "ipython3",
   "version": "3.8.8"
  }
 },
 "nbformat": 4,
 "nbformat_minor": 5
}
